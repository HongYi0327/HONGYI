{
 "cells": [
  {
   "cell_type": "code",
   "execution_count": 2,
   "metadata": {},
   "outputs": [
    {
     "name": "stdout",
     "output_type": "stream",
     "text": [
      "清理過的數據已保存到 'cleaned_data.csv'\n",
      "編碼對照表已保存到 'encoding_maps.csv'\n"
     ]
    }
   ],
   "source": [
    "import pandas as pd\n",
    "from sklearn.preprocessing import LabelEncoder\n",
    "\n",
    "# 加載數據集\n",
    "file_path = r\"C:\\Users\\msi PC\\Desktop\\final project\\d81a040c-429c-441b-b2bb-ee7f6f07c11e.csv\"  # 替換成你的文件路徑\n",
    "df = pd.read_csv(file_path)\n",
    "\n",
    "# 刪除指定的欄位\n",
    "columns_to_remove = ['編號', '備註', '非都市土地使用編定', '非都市土地使用分區', \n",
    "                     '車位總價元', '車位移轉總面積平方公尺', '停車位所在樓層',\n",
    "                     '建物現況格局-廳', '建物現況格局-衛', '都市土地使用分區', '交易筆棟數',\n",
    "                     '特殊交易備註', '土地區段位置或建物區門牌','單價每平方公尺']\n",
    "df_cleaned = df.drop(columns=columns_to_remove)\n",
    "\n",
    "# 確定需要編碼的類別型欄位\n",
    "categorical_columns = ['鄉鎮市區', '交易標的', '移轉層次', '總樓層數', '建物型態', '主要用途', \n",
    "                       '主要建材', '有無管理組織', '車位類別', '電梯']\n",
    "\n",
    "# 初始化 LabelEncoder\n",
    "label_encoders = {}\n",
    "encoding_maps = {}\n",
    "\n",
    "# 對每個類別型欄位進行編碼並存儲編碼對照表\n",
    "for column in categorical_columns:\n",
    "    le = LabelEncoder()\n",
    "    df_cleaned[column] = le.fit_transform(df_cleaned[column].astype(str))\n",
    "    label_encoders[column] = le\n",
    "    encoding_maps[column] = dict(zip(le.classes_, le.transform(le.classes_)))\n",
    "\n",
    "# 保存清理後的數據到新的 CSV 文件\n",
    "df_cleaned.to_csv(\"cleaned_data.csv\", index=False)\n",
    "\n",
    "# 保存編碼對照表到 CSV 文件\n",
    "encoding_df = pd.DataFrame.from_dict(encoding_maps, orient='index').transpose()\n",
    "encoding_df.to_csv(\"encoding_maps.csv\", index=False)\n",
    "\n",
    "print(\"清理過的數據已保存到 'cleaned_data.csv'\")\n",
    "print(\"編碼對照表已保存到 'encoding_maps.csv'\")"
   ]
  },
  {
   "cell_type": "code",
   "execution_count": 4,
   "metadata": {},
   "outputs": [
    {
     "data": {
      "text/plain": [
       "'C:\\\\Users\\\\msi PC\\\\Desktop\\\\final project\\\\final_cleaned_data.csv'"
      ]
     },
     "execution_count": 4,
     "metadata": {},
     "output_type": "execute_result"
    }
   ],
   "source": [
    "import pandas as pd\n",
    "\n",
    "# 重新加載數據\n",
    "\n",
    "cleaned_data_path = r\"C:\\Users\\msi PC\\Desktop\\final project\\cleaned_data.csv\"\n",
    "data_cleaned = pd.read_csv(cleaned_data_path)\n",
    "# 刪除指定的欄位\n",
    "columns_to_drop = ['車位類別', '建物現況格局-隔間', '主要建材', '主要用途', '移轉層次','建物現況格局-房','有無管理組織','交易年月日']\n",
    "data_cleaned.drop(columns=columns_to_drop, inplace=True)\n",
    "\n",
    "# 修改電梯類別中的數值\n",
    "data_cleaned['電梯'] = data_cleaned['電梯'].replace({2: 0})\n",
    "\n",
    "# 刪除所有有缺失值的行\n",
    "data_cleaned.dropna(inplace=True)\n",
    "\n",
    "# 保存修改後的數據\n",
    "output_path = r\"C:\\Users\\msi PC\\Desktop\\final project\\final_cleaned_data.csv\"\n",
    "data_cleaned.to_csv(output_path, index=False)\n",
    "\n",
    "output_path"
   ]
  }
 ],
 "metadata": {
  "kernelspec": {
   "display_name": "base",
   "language": "python",
   "name": "python3"
  },
  "language_info": {
   "codemirror_mode": {
    "name": "ipython",
    "version": 3
   },
   "file_extension": ".py",
   "mimetype": "text/x-python",
   "name": "python",
   "nbconvert_exporter": "python",
   "pygments_lexer": "ipython3",
   "version": "3.11.5"
  }
 },
 "nbformat": 4,
 "nbformat_minor": 2
}
